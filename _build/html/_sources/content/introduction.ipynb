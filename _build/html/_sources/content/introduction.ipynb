{
 "cells": [
  {
   "cell_type": "markdown",
   "id": "0463f3be-d20b-453c-afde-4b9866f179d7",
   "metadata": {},
   "source": [
    "# Introduction\n",
    "\n",
    "Sentiment analysis (also known as opinion mining or emotion AI) is the use of natural language processing, text analysis, computational linguistics, and biometrics to systematically identify, extract, quantify, and study affective states and subjective information. Sentiment analysis is widely applied to voice of the customer materials such as reviews and survey responses, online and social media, and healthcare materials for applications that range from marketing to customer service to clinical medicine\n",
    "([Wikipedia](https://en.wikipedia.org/wiki/Sentiment_analysis))."
   ]
  },
  {
   "cell_type": "markdown",
   "id": "3cf472f4-f16f-4377-a4b5-d07819064732",
   "metadata": {
    "tags": []
   },
   "source": [
    "It is the process of using natural language processing, machine learning and other artificial intelligence techniques to identify and extract subjective information from text or speech data sources, such as reviews, social media posts, surveys, customer feedback, emails, and call center transcripts. The goal of sentiment analysis is to determine the attitude or emotion behind the words used in order to understand how people feel about a particular topic or product. It has various applications including market research, brand monitoring, customer service management, risk assessment and fraud detection among others."
   ]
  },
  {
   "cell_type": "markdown",
   "id": "a83e136f-2d9e-4b4f-b067-3c0bf1c5f4c2",
   "metadata": {},
   "source": [
    "In this small project I will explore the latest advancements and challenges in sentiment analysis and its use cases. It then uses data from different sources to make simple sentiment analysis tasks using a series of examples. I use an opensource large language model [BERT](https://huggingface.co/bert-base-uncased) described in this [paper](https://arxiv.org/abs/1810.04805) and its extensions and customized versions."
   ]
  }
 ],
 "metadata": {
  "kernelspec": {
   "display_name": "Python 3 (ipykernel)",
   "language": "python",
   "name": "python3"
  },
  "language_info": {
   "codemirror_mode": {
    "name": "ipython",
    "version": 3
   },
   "file_extension": ".py",
   "mimetype": "text/x-python",
   "name": "python",
   "nbconvert_exporter": "python",
   "pygments_lexer": "ipython3",
   "version": "3.10.9"
  }
 },
 "nbformat": 4,
 "nbformat_minor": 5
}
