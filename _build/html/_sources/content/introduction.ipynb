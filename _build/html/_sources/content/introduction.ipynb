{
 "cells": [
  {
   "cell_type": "markdown",
   "id": "0463f3be-d20b-453c-afde-4b9866f179d7",
   "metadata": {},
   "source": [
    "# Introduction\n",
    "\n",
    "Sentiment analysis is the process of using natural language processing, machine learning and other artificial intelligence techniques to identify and extract subjective information from text or speech data sources, such as reviews, social media posts, surveys, customer feedback, emails, and call center transcripts. The goal of sentiment analysis is to determine the attitude or emotion behind the words used in order to understand how people feel about a particular topic or product. It has various applications including market research, brand monitoring, customer service management, risk assessment and fraud detection among others. This article will explore the latest advancements and challenges in sentiment analysis, its use cases, and future prospects. It then uses data from tweeter to make a simple sentiment analysis. I use an opensource large language model trained on tweeter datasets to extract sentiments from tweeter posts. An analysis is made based on the result of the model."
   ]
  }
 ],
 "metadata": {
  "kernelspec": {
   "display_name": "Python 3 (ipykernel)",
   "language": "python",
   "name": "python3"
  },
  "language_info": {
   "codemirror_mode": {
    "name": "ipython",
    "version": 3
   },
   "file_extension": ".py",
   "mimetype": "text/x-python",
   "name": "python",
   "nbconvert_exporter": "python",
   "pygments_lexer": "ipython3",
   "version": "3.10.11"
  }
 },
 "nbformat": 4,
 "nbformat_minor": 5
}
