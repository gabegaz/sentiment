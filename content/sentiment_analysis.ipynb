{
 "cells": [
  {
   "cell_type": "markdown",
   "id": "f97c8fb1-9191-4e4a-974e-4979eb79ec2f",
   "metadata": {},
   "source": [
    "# Sentiment Analysis: Example 1"
   ]
  },
  {
   "cell_type": "code",
   "execution_count": 68,
   "id": "dcdbed3e-b56b-403b-a5a9-202e784133d1",
   "metadata": {},
   "outputs": [],
   "source": [
    "import pandas as pd"
   ]
  },
  {
   "cell_type": "code",
   "execution_count": 69,
   "id": "0ff959fd-06b9-4867-a39d-79517e4f8e01",
   "metadata": {},
   "outputs": [],
   "source": [
    "df = pd.read_csv('../data/data_labelled.csv', usecols = ['Sentence'])\n",
    "df.to_csv('../data/data_unlabelled.csv')"
   ]
  },
  {
   "cell_type": "code",
   "execution_count": 70,
   "id": "d4b9a00c-6db7-4615-95be-69bb20b8153e",
   "metadata": {},
   "outputs": [
    {
     "data": {
      "text/plain": [
       "Index(['Sentence'], dtype='object')"
      ]
     },
     "execution_count": 70,
     "metadata": {},
     "output_type": "execute_result"
    }
   ],
   "source": [
    "df.columns"
   ]
  },
  {
   "cell_type": "code",
   "execution_count": 71,
   "id": "040af38d-e722-4866-94c3-b71eb45ce166",
   "metadata": {},
   "outputs": [
    {
     "data": {
      "text/html": [
       "<div>\n",
       "<style scoped>\n",
       "    .dataframe tbody tr th:only-of-type {\n",
       "        vertical-align: middle;\n",
       "    }\n",
       "\n",
       "    .dataframe tbody tr th {\n",
       "        vertical-align: top;\n",
       "    }\n",
       "\n",
       "    .dataframe thead th {\n",
       "        text-align: right;\n",
       "    }\n",
       "</style>\n",
       "<table border=\"1\" class=\"dataframe\">\n",
       "  <thead>\n",
       "    <tr style=\"text-align: right;\">\n",
       "      <th></th>\n",
       "      <th>Sentence</th>\n",
       "    </tr>\n",
       "  </thead>\n",
       "  <tbody>\n",
       "    <tr>\n",
       "      <th>0</th>\n",
       "      <td>The GeoSolutions technology will leverage Bene...</td>\n",
       "    </tr>\n",
       "    <tr>\n",
       "      <th>1</th>\n",
       "      <td>$ESI on lows, down $1.50 to $2.50 BK a real po...</td>\n",
       "    </tr>\n",
       "    <tr>\n",
       "      <th>2</th>\n",
       "      <td>For the last quarter of 2010 , Componenta 's n...</td>\n",
       "    </tr>\n",
       "    <tr>\n",
       "      <th>3</th>\n",
       "      <td>According to the Finnish-Russian Chamber of Co...</td>\n",
       "    </tr>\n",
       "    <tr>\n",
       "      <th>4</th>\n",
       "      <td>The Swedish buyout firm has sold its remaining...</td>\n",
       "    </tr>\n",
       "    <tr>\n",
       "      <th>...</th>\n",
       "      <td>...</td>\n",
       "    </tr>\n",
       "    <tr>\n",
       "      <th>5837</th>\n",
       "      <td>RISING costs have forced packaging producer Hu...</td>\n",
       "    </tr>\n",
       "    <tr>\n",
       "      <th>5838</th>\n",
       "      <td>Nordic Walking was first used as a summer trai...</td>\n",
       "    </tr>\n",
       "    <tr>\n",
       "      <th>5839</th>\n",
       "      <td>According shipping company Viking Line , the E...</td>\n",
       "    </tr>\n",
       "    <tr>\n",
       "      <th>5840</th>\n",
       "      <td>In the building and home improvement trade , s...</td>\n",
       "    </tr>\n",
       "    <tr>\n",
       "      <th>5841</th>\n",
       "      <td>HELSINKI AFX - KCI Konecranes said it has won ...</td>\n",
       "    </tr>\n",
       "  </tbody>\n",
       "</table>\n",
       "<p>5842 rows × 1 columns</p>\n",
       "</div>"
      ],
      "text/plain": [
       "                                               Sentence\n",
       "0     The GeoSolutions technology will leverage Bene...\n",
       "1     $ESI on lows, down $1.50 to $2.50 BK a real po...\n",
       "2     For the last quarter of 2010 , Componenta 's n...\n",
       "3     According to the Finnish-Russian Chamber of Co...\n",
       "4     The Swedish buyout firm has sold its remaining...\n",
       "...                                                 ...\n",
       "5837  RISING costs have forced packaging producer Hu...\n",
       "5838  Nordic Walking was first used as a summer trai...\n",
       "5839  According shipping company Viking Line , the E...\n",
       "5840  In the building and home improvement trade , s...\n",
       "5841  HELSINKI AFX - KCI Konecranes said it has won ...\n",
       "\n",
       "[5842 rows x 1 columns]"
      ]
     },
     "execution_count": 71,
     "metadata": {},
     "output_type": "execute_result"
    }
   ],
   "source": [
    "df"
   ]
  },
  {
   "cell_type": "code",
   "execution_count": 72,
   "id": "1d882df0-39c1-498d-b9e6-08f10ced712f",
   "metadata": {},
   "outputs": [
    {
     "name": "stdout",
     "output_type": "stream",
     "text": [
      "5842\n"
     ]
    }
   ],
   "source": [
    "print(len(df))"
   ]
  },
  {
   "cell_type": "code",
   "execution_count": 73,
   "id": "5e83e854-9d3a-4a04-9928-75117c923387",
   "metadata": {},
   "outputs": [
    {
     "name": "stdout",
     "output_type": "stream",
     "text": [
      "100\n"
     ]
    }
   ],
   "source": [
    "df = df[:100]\n",
    "print(len(df))"
   ]
  },
  {
   "cell_type": "code",
   "execution_count": 74,
   "id": "6325765f-b4c3-4472-aa1e-43cdfb2562e0",
   "metadata": {},
   "outputs": [],
   "source": [
    "from transformers import pipeline\n",
    "from transformers.utils import logging\n",
    "logging.set_verbosity_error()"
   ]
  },
  {
   "cell_type": "code",
   "execution_count": 75,
   "id": "00edea72-6f64-4dae-bfa0-c63769f67ae3",
   "metadata": {},
   "outputs": [],
   "source": [
    "classifier = pipeline(\"sentiment-analysis\",\n",
    "                    model='distilbert-base-uncased-finetuned-sst-2-english')"
   ]
  },
  {
   "cell_type": "code",
   "execution_count": 76,
   "id": "eeb83c0b-e018-4a69-838b-fb059e17da0e",
   "metadata": {},
   "outputs": [
    {
     "data": {
      "text/plain": [
       "<transformers.pipelines.text_classification.TextClassificationPipeline at 0x7f561c9c7b20>"
      ]
     },
     "execution_count": 76,
     "metadata": {},
     "output_type": "execute_result"
    }
   ],
   "source": [
    "classifier"
   ]
  },
  {
   "cell_type": "code",
   "execution_count": 77,
   "id": "21b8d971-3b1b-4cce-81c8-0ac604d8d659",
   "metadata": {},
   "outputs": [],
   "source": [
    "outputs= classifier(\n",
    "    [sentence for sentence in df['Sentence'] ]\n",
    ")"
   ]
  },
  {
   "cell_type": "code",
   "execution_count": 78,
   "id": "4dd61a25-b1cc-47b9-ad8b-423ee3cf6b6e",
   "metadata": {},
   "outputs": [
    {
     "name": "stdout",
     "output_type": "stream",
     "text": [
      "       label     score\n",
      "0   POSITIVE  0.999175\n",
      "1   NEGATIVE  0.993126\n",
      "2   NEGATIVE  0.993958\n",
      "3   POSITIVE  0.996882\n",
      "4   NEGATIVE  0.991635\n",
      "..       ...       ...\n",
      "95  NEGATIVE  0.999630\n",
      "96  NEGATIVE  0.527705\n",
      "97  NEGATIVE  0.971622\n",
      "98  NEGATIVE  0.998728\n",
      "99  NEGATIVE  0.997273\n",
      "\n",
      "[100 rows x 2 columns]\n"
     ]
    }
   ],
   "source": [
    "df = pd.DataFrame(outputs)\n",
    "print(df)"
   ]
  },
  {
   "cell_type": "code",
   "execution_count": 79,
   "id": "9d9ce3cb-1dfb-4538-b0d8-83cf0d3e11ae",
   "metadata": {},
   "outputs": [],
   "source": [
    "df['label'].value_counts()\n",
    "freq = df['label'].value_counts().sort_values()"
   ]
  },
  {
   "cell_type": "code",
   "execution_count": 80,
   "id": "ae85341b-6557-4a53-b5c5-b238d5e2bea0",
   "metadata": {},
   "outputs": [],
   "source": [
    "import matplotlib.pyplot as plt"
   ]
  },
  {
   "cell_type": "code",
   "execution_count": 81,
   "id": "2f951673-007d-4ba5-9d0f-fd42de7fa0bb",
   "metadata": {},
   "outputs": [
    {
     "data": {
      "image/png": "[encoded data removed]",
      "text/plain": [
       "<Figure size 640x480 with 1 Axes>"
      ]
     },
     "metadata": {},
     "output_type": "display_data"
    }
   ],
   "source": [
    "freq = df['label'].value_counts().sort_values()\n",
    "plt.bar([i+1 for i in range(len(freq))], freq, color='blue')\n",
    "plt.title('Frequency Distribution')\n",
    "plt.xlabel('Categories')\n",
    "plt.ylabel('Frequencies')\n",
    "plt.xticks(rotation=90)\n",
    "plt.show()"
   ]
  },
  {
   "cell_type": "code",
   "execution_count": 82,
   "id": "c2987a45-9bf3-429e-940f-28f1ec806605",
   "metadata": {},
   "outputs": [
    {
     "data": {
      "image/png": "[encoded data removed]",
      "text/plain": [
       "<Figure size 640x480 with 1 Axes>"
      ]
     },
     "metadata": {},
     "output_type": "display_data"
    }
   ],
   "source": [
    "percentage = (freq / len(df)).round(2).cumsum() * 100\n",
    "plt.bar(range(len(percentage)), percentage, color='blue')\n",
    "plt.title('Percentage Distribution')\n",
    "plt.xlabel('Categories')\n",
    "plt.ylabel('Percentages')\n",
    "plt.xticks(rotation=90)\n",
    "plt.show()"
   ]
  }
 ],
 "metadata": {
  "kernelspec": {
   "display_name": "Python 3 (ipykernel)",
   "language": "python",
   "name": "python3"
  },
  "language_info": {
   "codemirror_mode": {
    "name": "ipython",
    "version": 3
   },
   "file_extension": ".py",
   "mimetype": "text/x-python",
   "name": "python",
   "nbconvert_exporter": "python",
   "pygments_lexer": "ipython3",
   "version": "3.10.11"
  }
 },
 "nbformat": 4,
 "nbformat_minor": 5
}
