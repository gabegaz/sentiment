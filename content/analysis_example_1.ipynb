{
 "cells": [
  {
   "cell_type": "markdown",
   "id": "f97c8fb1-9191-4e4a-974e-4979eb79ec2f",
   "metadata": {},
   "source": [
    "# Sentiment Analysis: Example 1\n",
    "In this first simple example, I will use [this dataset](https://www.kaggle.com/datasets/sbhatti/financial-sentiment-analysis) from *Malo, Pekka, et al. \"Good debt or bad debt: Detecting semantic orientations in economic texts.\" Journal of the Association for Information Science and Technology 65.4 (2014): 782-796.*"
   ]
  },
  {
   "cell_type": "markdown",
   "id": "226c71d3-7546-47e9-a0ca-326c638aa26f",
   "metadata": {},
   "source": [
    "## Extracting sentiments"
   ]
  },
  {
   "cell_type": "markdown",
   "id": "fcaa7387-1b4f-4051-ac04-b535115ce437",
   "metadata": {},
   "source": [
    "We will use pandas for data handling, and visualization and transformers machine library, the workhorse for working with large language models. \n",
    "\n",
    "So, first, go ahead and install these three Python libraries:"
   ]
  },
  {
   "cell_type": "markdown",
   "id": "525fb91d-3a2c-4750-a944-f72addcddac6",
   "metadata": {},
   "source": [
    "```pip install pandas, transformers```\n",
    "\n",
    "We need to get the data with pandas' `read_csv()` function."
   ]
  },
  {
   "cell_type": "code",
   "execution_count": 48,
   "id": "dcdbed3e-b56b-403b-a5a9-202e784133d1",
   "metadata": {},
   "outputs": [],
   "source": [
    "import pandas as pd"
   ]
  },
  {
   "cell_type": "code",
   "execution_count": 29,
   "id": "0ff959fd-06b9-4867-a39d-79517e4f8e01",
   "metadata": {},
   "outputs": [],
   "source": [
    "df = pd.read_csv('../data/data_labelled.csv', usecols = ['Sentence']) # get \"Sentence\" column\n",
    "df.to_csv('../data/data_unlabelled.csv')  # Save it in the same folder"
   ]
  },
  {
   "cell_type": "markdown",
   "id": "de4a5790-adc3-447e-aa6c-21dd37f2c1d5",
   "metadata": {},
   "source": [
    "In the above cell, I first read the data store it in memory wiht `df`. While reading the data, I use the optional argument `usecols=['Sentence']` to extract the column I am interested in (i.e. the sentences I want to work on). I then saved it in the same folder with a different file name. To see what is inside the data"
   ]
  },
  {
   "cell_type": "code",
   "execution_count": 15,
   "id": "040af38d-e722-4866-94c3-b71eb45ce166",
   "metadata": {},
   "outputs": [
    {
     "data": {
      "text/html": [
       "<div>\n",
       "<style scoped>\n",
       "    .dataframe tbody tr th:only-of-type {\n",
       "        vertical-align: middle;\n",
       "    }\n",
       "\n",
       "    .dataframe tbody tr th {\n",
       "        vertical-align: top;\n",
       "    }\n",
       "\n",
       "    .dataframe thead th {\n",
       "        text-align: right;\n",
       "    }\n",
       "</style>\n",
       "<table border=\"1\" class=\"dataframe\">\n",
       "  <thead>\n",
       "    <tr style=\"text-align: right;\">\n",
       "      <th></th>\n",
       "      <th>Sentence</th>\n",
       "    </tr>\n",
       "  </thead>\n",
       "  <tbody>\n",
       "    <tr>\n",
       "      <th>0</th>\n",
       "      <td>The GeoSolutions technology will leverage Bene...</td>\n",
       "    </tr>\n",
       "    <tr>\n",
       "      <th>1</th>\n",
       "      <td>$ESI on lows, down $1.50 to $2.50 BK a real po...</td>\n",
       "    </tr>\n",
       "    <tr>\n",
       "      <th>2</th>\n",
       "      <td>For the last quarter of 2010 , Componenta 's n...</td>\n",
       "    </tr>\n",
       "    <tr>\n",
       "      <th>3</th>\n",
       "      <td>According to the Finnish-Russian Chamber of Co...</td>\n",
       "    </tr>\n",
       "    <tr>\n",
       "      <th>4</th>\n",
       "      <td>The Swedish buyout firm has sold its remaining...</td>\n",
       "    </tr>\n",
       "    <tr>\n",
       "      <th>...</th>\n",
       "      <td>...</td>\n",
       "    </tr>\n",
       "    <tr>\n",
       "      <th>5837</th>\n",
       "      <td>RISING costs have forced packaging producer Hu...</td>\n",
       "    </tr>\n",
       "    <tr>\n",
       "      <th>5838</th>\n",
       "      <td>Nordic Walking was first used as a summer trai...</td>\n",
       "    </tr>\n",
       "    <tr>\n",
       "      <th>5839</th>\n",
       "      <td>According shipping company Viking Line , the E...</td>\n",
       "    </tr>\n",
       "    <tr>\n",
       "      <th>5840</th>\n",
       "      <td>In the building and home improvement trade , s...</td>\n",
       "    </tr>\n",
       "    <tr>\n",
       "      <th>5841</th>\n",
       "      <td>HELSINKI AFX - KCI Konecranes said it has won ...</td>\n",
       "    </tr>\n",
       "  </tbody>\n",
       "</table>\n",
       "<p>5842 rows × 1 columns</p>\n",
       "</div>"
      ],
      "text/plain": [
       "                                               Sentence\n",
       "0     The GeoSolutions technology will leverage Bene...\n",
       "1     $ESI on lows, down $1.50 to $2.50 BK a real po...\n",
       "2     For the last quarter of 2010 , Componenta 's n...\n",
       "3     According to the Finnish-Russian Chamber of Co...\n",
       "4     The Swedish buyout firm has sold its remaining...\n",
       "...                                                 ...\n",
       "5837  RISING costs have forced packaging producer Hu...\n",
       "5838  Nordic Walking was first used as a summer trai...\n",
       "5839  According shipping company Viking Line , the E...\n",
       "5840  In the building and home improvement trade , s...\n",
       "5841  HELSINKI AFX - KCI Konecranes said it has won ...\n",
       "\n",
       "[5842 rows x 1 columns]"
      ]
     },
     "execution_count": 15,
     "metadata": {},
     "output_type": "execute_result"
    }
   ],
   "source": [
    "df"
   ]
  },
  {
   "cell_type": "markdown",
   "id": "15aa63d8-a40e-4e32-b869-491667e7e677",
   "metadata": {},
   "source": [
    "To see how many sentences exist in the data frame, use the `len` Python function. We have 5842 sentences."
   ]
  },
  {
   "cell_type": "code",
   "execution_count": 16,
   "id": "1d882df0-39c1-498d-b9e6-08f10ced712f",
   "metadata": {},
   "outputs": [
    {
     "name": "stdout",
     "output_type": "stream",
     "text": [
      "5842\n"
     ]
    }
   ],
   "source": [
    "print(len(df))"
   ]
  },
  {
   "cell_type": "markdown",
   "id": "ad8a1e61-19f3-4265-b45a-cc2b808beea0",
   "metadata": {},
   "source": [
    "However, for this exercise, let's work on the first 100 sentences to save on computing resources."
   ]
  },
  {
   "cell_type": "code",
   "execution_count": 17,
   "id": "5e83e854-9d3a-4a04-9928-75117c923387",
   "metadata": {},
   "outputs": [
    {
     "name": "stdout",
     "output_type": "stream",
     "text": [
      "100\n"
     ]
    }
   ],
   "source": [
    "df = df[:100]\n",
    "print(len(df))"
   ]
  },
  {
   "cell_type": "markdown",
   "id": "62f33d13-7ea1-48bc-9e7f-0a06f8190bb5",
   "metadata": {},
   "source": [
    "We import `pipeline` and `logging` from transformers to predict sentiment and disable some warning texts while predicting respectively."
   ]
  },
  {
   "cell_type": "code",
   "execution_count": 18,
   "id": "6325765f-b4c3-4472-aa1e-43cdfb2562e0",
   "metadata": {},
   "outputs": [],
   "source": [
    "from transformers import pipeline\n",
    "from transformers.utils import logging\n",
    "logging.set_verbosity_error()"
   ]
  },
  {
   "cell_type": "markdown",
   "id": "98770851-51f5-4859-b56b-f37db6ad9702",
   "metadata": {},
   "source": [
    "The following code snippet instantiates the model. We provide the task (i.e. `sentiment-analysis` and the model (i.e. `distilbert-base-uncased-finetuned-sst-2-english`). The instantiated model is stored in the object `classifier`"
   ]
  },
  {
   "cell_type": "code",
   "execution_count": 19,
   "id": "00edea72-6f64-4dae-bfa0-c63769f67ae3",
   "metadata": {},
   "outputs": [],
   "source": [
    "classifier = pipeline(\"sentiment-analysis\",\n",
    "                    model='distilbert-base-uncased-finetuned-sst-2-english')"
   ]
  },
  {
   "cell_type": "markdown",
   "id": "d4a848ec-379d-4153-b129-99b47695b682",
   "metadata": {},
   "source": [
    "Finally, we run the model by providing it with the text we want to extract sentiment on. In the following cell, we provide the sentences separately. The output of the model will be stored in the `outputs` object."
   ]
  },
  {
   "cell_type": "code",
   "execution_count": 20,
   "id": "21b8d971-3b1b-4cce-81c8-0ac604d8d659",
   "metadata": {},
   "outputs": [],
   "source": [
    "outputs= classifier(\n",
    "    [sentence for sentence in df['Sentence'] ]\n",
    ")"
   ]
  },
  {
   "cell_type": "markdown",
   "id": "05908411-f1a2-48fa-bc70-368e698f1aa4",
   "metadata": {},
   "source": [
    "The output is a dictionary. Let's see the first 5 predicted outputs and their score."
   ]
  },
  {
   "cell_type": "code",
   "execution_count": 23,
   "id": "fdc4c143-9dd2-4646-8eda-e42a4984bfd1",
   "metadata": {},
   "outputs": [
    {
     "data": {
      "text/plain": [
       "[{'label': 'POSITIVE', 'score': 0.9991747736930847},\n",
       " {'label': 'NEGATIVE', 'score': 0.9931260347366333},\n",
       " {'label': 'NEGATIVE', 'score': 0.9939583539962769},\n",
       " {'label': 'POSITIVE', 'score': 0.9968819618225098},\n",
       " {'label': 'NEGATIVE', 'score': 0.991634726524353}]"
      ]
     },
     "execution_count": 23,
     "metadata": {},
     "output_type": "execute_result"
    }
   ],
   "source": [
    "outputs[0:5]"
   ]
  },
  {
   "cell_type": "markdown",
   "id": "299ee432-cc3c-4111-adf5-53288545cd9f",
   "metadata": {},
   "source": [
    "More conviniently, we can use pandas to see the label and score of the output in a tabular format."
   ]
  },
  {
   "cell_type": "code",
   "execution_count": 25,
   "id": "4dd61a25-b1cc-47b9-ad8b-423ee3cf6b6e",
   "metadata": {},
   "outputs": [
    {
     "name": "stdout",
     "output_type": "stream",
     "text": [
      "       label     score\n",
      "0   POSITIVE  0.999175\n",
      "1   NEGATIVE  0.993126\n",
      "2   NEGATIVE  0.993958\n",
      "3   POSITIVE  0.996882\n",
      "4   NEGATIVE  0.991635\n",
      "..       ...       ...\n",
      "95  NEGATIVE  0.999630\n",
      "96  NEGATIVE  0.527705\n",
      "97  NEGATIVE  0.971622\n",
      "98  NEGATIVE  0.998728\n",
      "99  NEGATIVE  0.997273\n",
      "\n",
      "[100 rows x 2 columns]\n"
     ]
    }
   ],
   "source": [
    "df = pd.DataFrame(outputs)\n",
    "print(df)"
   ]
  },
  {
   "cell_type": "markdown",
   "id": "b1ab6463-f0dd-4f5e-9b3b-98700b36c83e",
   "metadata": {},
   "source": [
    "## Visualizing sentiments\n",
    "We will impoloy `pandas`'s `plot` package to see the results graphically. First let's get the variables for the axis."
   ]
  },
  {
   "cell_type": "code",
   "execution_count": 76,
   "id": "9d9ce3cb-1dfb-4538-b0d8-83cf0d3e11ae",
   "metadata": {},
   "outputs": [
    {
     "name": "stdout",
     "output_type": "stream",
     "text": [
      "label\n",
      "POSITIVE    31\n",
      "NEGATIVE    69\n",
      "Name: count, dtype: int64\n"
     ]
    }
   ],
   "source": [
    "freq = df['label'].value_counts().sort_values()\n",
    "print(freq)"
   ]
  },
  {
   "cell_type": "code",
   "execution_count": 77,
   "id": "72a17fba-6eaf-477b-b295-1665ad42e502",
   "metadata": {},
   "outputs": [
    {
     "data": {
      "image/png": "[encoded data removed]",
      "text/plain": [
       "<Figure size 640x480 with 1 Axes>"
      ]
     },
     "metadata": {},
     "output_type": "display_data"
    }
   ],
   "source": [
    "\n",
    "ax = freq.plot.bar(x='label', y='count', \n",
    "                   rot=0, title=\"Sentiments in Frequency\")\n",
    "ax.legend(loc=2)  \n",
    "ax.set_xlabel(\"Sentiments\")\n",
    "ax.set_ylabel(\"Frequency\");"
   ]
  },
  {
   "cell_type": "markdown",
   "id": "6367e0b6-2165-425d-bcf8-e07f361e5380",
   "metadata": {},
   "source": [
    "The result can also be shown with a percentage rather than frequency."
   ]
  },
  {
   "cell_type": "code",
   "execution_count": 71,
   "id": "c2987a45-9bf3-429e-940f-28f1ec806605",
   "metadata": {},
   "outputs": [],
   "source": [
    "perc = (freq / len(df)).round(2).cumsum() * 100"
   ]
  },
  {
   "cell_type": "code",
   "execution_count": 78,
   "id": "b88aabd0-a211-4b49-91e3-7cda3fc852bc",
   "metadata": {},
   "outputs": [
    {
     "data": {
      "image/png": "[encoded data removed]",
      "text/plain": [
       "<Figure size 640x480 with 1 Axes>"
      ]
     },
     "metadata": {},
     "output_type": "display_data"
    }
   ],
   "source": [
    "ax = perc.plot.bar(x='label', y='count', \n",
    "                   rot=0, title=\"Sentiments in Percentage\")\n",
    "ax.legend(loc=2)  \n",
    "ax.set_xlabel(\"Sentiments\")\n",
    "ax.set_ylabel(\"Percent\");"
   ]
  },
  {
   "cell_type": "markdown",
   "id": "b69a9b9f-ed5f-46ac-a13f-63e8b441a5e3",
   "metadata": {},
   "source": [
    "In example 2, we will see how we can also include neutral in the prediction."
   ]
  }
 ],
 "metadata": {
  "kernelspec": {
   "display_name": "Python 3 (ipykernel)",
   "language": "python",
   "name": "python3"
  },
  "language_info": {
   "codemirror_mode": {
    "name": "ipython",
    "version": 3
   },
   "file_extension": ".py",
   "mimetype": "text/x-python",
   "name": "python",
   "nbconvert_exporter": "python",
   "pygments_lexer": "ipython3",
   "version": "3.10.11"
  }
 },
 "nbformat": 4,
 "nbformat_minor": 5
}
