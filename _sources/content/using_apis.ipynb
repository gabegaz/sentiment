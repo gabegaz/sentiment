{
 "cells": [
  {
   "cell_type": "markdown",
   "id": "4017e091-79e5-428b-bc25-6e32c9ddaf25",
   "metadata": {},
   "source": [
    "# Application Programing Interface (APIs)\n",
    "Here are some general steps for extracting data from Twitter using APIs:\n",
    "\n",
    "1. Register a free Twitter developer account on the official developer portal: https://developer.twitter.com/. Follow the instructions provided on the site to complete registration.\n",
    "2. Create an app within your developer account. This will give you access to unique API keys that enable authentication between the Twitter platform and your application. \n",
    "3. Obtain API Keys and Access Token: You will need to generate API keys and access tokens for your application. The API keys will be required when calling the API, while the access token will grant permission for your application to access protected resources, such as private tweets.\n",
    "4. Determine which type of data you want to extract: Before you begin extracting data, consider what kind of data you want to extract. Are you looking for all tweets related to a particular keyword? Do you want to filter tweets based on location, author, language, or any other parameter available through the Twitter API? Knowing what you want ahead of time will save you time and effort later on.\n",
    "5. Set up the query URL: Using the Twitter search API, you can build URLs to retrieve tweets matching specific criteria. Your query string should contain parameters like q (keyword), lang (language), since (date range), until (end date), etc. Depending on the complexity of your query, you may need to test various combinations of parameters to get desired results.\n",
    "6. Retrieve Data: Send HTTP GET requests to Twitter API endpoints and pass along your customized query strings. Use Python, Java, R, Ruby or whichever programming language you prefer, but ensure that your chosen library has Twitter API integration support. Collect the returned JSON data and parse it to store the results in your database or do further processing.\n",
    "7. Handle Errors: Like most modern APIs, Twitter search API returns error messages if something goes wrong. You'll want to handle those gracefully in your code so that you know what went wrong and why. This way you can iterate and fix problems more easily."
   ]
  },
  {
   "cell_type": "markdown",
   "id": "8f92fcec-81c9-4dfe-b46e-d03be5d87f11",
   "metadata": {},
   "source": [
    "## Authentication wiht Secret Keys\n",
    "Protecting sensitive information, such as secret keys, is crucial for maintaining the security of your project. One way to achieve this is by storing them in an encrypted file instead of hardcoding them into your source code. To add another layer of protection, you can then use version control software like Git to keep track of changes to your files, including your key files. However, because these key files contain sensitive information, they should never be stored directly under version control. That's where the \"gitignore\" feature comes in handy.\n",
    "\n",
    "Gitignore allows you to specify which files or directories should be ignored by Git when committing changes to your repository. For example, you could create a .gitignore rule to exclude certain subdirectories containing secrets or configuration settings from being committed to your VCS provider. While gitignore rules are effective at preventing accidental commitments, they don't necessarily protect against someone physically accessing the file system.\n",
    "\n",
    "To truly secure your sensitive information, you should encrypt the contents of each file before adding it to version control. The python-dotenv package makes it easy to automate this process. Here are the basic steps for setting up a dotenv file with secret_key values:\n",
    "\n",
    "1. Install the python-dotenv package and initialize your project directory with `python -m pip install python-dotenv`.\n",
    "2. In the root folder of your project, create a new `.env` file (`touch .env` from terminal) and add the lines `SECRET_KEY=your_secret_key_here` followed by a newline character. Repeat this step for any other environment variables that require encryption.\n",
    "3. Make sure to set appropriate permissions on both the `.env`. These files should only be readable by the owner of the project directory.\n",
    "\n",
    "By following these steps, you can effectively safeguard your sensitive information without sacrificing ease-of-use or collaboration opportunities."
   ]
  },
  {
   "cell_type": "markdown",
   "id": "12c4c9a4-0b46-445b-9383-46817860dc32",
   "metadata": {},
   "source": [
    "## Implementation with a Python Environment\n",
    "Lets install and python-dotenv:"
   ]
  },
  {
   "cell_type": "code",
   "execution_count": 1,
   "id": "bf38b1b3-09e9-442a-8d87-b653df87931d",
   "metadata": {},
   "outputs": [],
   "source": [
    "#pip install python-dotenv"
   ]
  },
  {
   "cell_type": "markdown",
   "id": "cb3d1d53-66ed-41a6-a563-c333f917c5e8",
   "metadata": {},
   "source": [
    "Import the required packages from both `python-dotenv` and Python's `os` package"
   ]
  },
  {
   "cell_type": "code",
   "execution_count": 2,
   "id": "ebb571ab-9fee-4e85-9267-b2c7ffb9d982",
   "metadata": {},
   "outputs": [
    {
     "data": {
      "text/plain": [
       "True"
      ]
     },
     "execution_count": 2,
     "metadata": {},
     "output_type": "execute_result"
    }
   ],
   "source": [
    "from dotenv import load_dotenv\n",
    "import os \n",
    "load_dotenv()  #loads keys to the environment"
   ]
  },
  {
   "cell_type": "markdown",
   "id": "b6906780-22c1-41db-9ab3-729d22cf6d0f",
   "metadata": {},
   "source": [
    "To get the keys use ```os.getenv(\" \")``` function of the os package like so."
   ]
  },
  {
   "cell_type": "code",
   "execution_count": 3,
   "id": "6a868913-903d-4e90-8cb5-3974677f7701",
   "metadata": {},
   "outputs": [],
   "source": [
    "api_keys = os.getenv(\"API_KEYS\")\n",
    "api_keys_sec = os.getenv(\"API_KEYS_SEC\")\n",
    "access_token = os.getenv(\"ACCESS_TOKEN\")\n",
    "access_token_sec = os.getenv(\"ACCESS_TOKEN_SEC\")"
   ]
  },
  {
   "cell_type": "markdown",
   "id": "561bece4-f017-4027-9e49-9826848ea598",
   "metadata": {},
   "source": [
    "Now, `api_keys`, `api_keys_sec`, `access_token`, `access_token_sec` hold the secret keys that we need for our work in the newx section."
   ]
  }
 ],
 "metadata": {
  "kernelspec": {
   "display_name": "Python 3 (ipykernel)",
   "language": "python",
   "name": "python3"
  },
  "language_info": {
   "codemirror_mode": {
    "name": "ipython",
    "version": 3
   },
   "file_extension": ".py",
   "mimetype": "text/x-python",
   "name": "python",
   "nbconvert_exporter": "python",
   "pygments_lexer": "ipython3",
   "version": "3.10.11"
  }
 },
 "nbformat": 4,
 "nbformat_minor": 5
}
